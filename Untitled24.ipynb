{
  "nbformat": 4,
  "nbformat_minor": 0,
  "metadata": {
    "colab": {
      "name": "Untitled24.ipynb",
      "provenance": [],
      "authorship_tag": "ABX9TyN9Zs6elCAlO56y1kzDB8M9",
      "include_colab_link": true
    },
    "kernelspec": {
      "name": "python3",
      "display_name": "Python 3"
    },
    "language_info": {
      "name": "python"
    }
  },
  "cells": [
    {
      "cell_type": "markdown",
      "metadata": {
        "id": "view-in-github",
        "colab_type": "text"
      },
      "source": [
        "<a href=\"https://colab.research.google.com/github/Vallidevibolla/Assignment-5/blob/main/Untitled24.ipynb\" target=\"_parent\"><img src=\"https://colab.research.google.com/assets/colab-badge.svg\" alt=\"Open In Colab\"/></a>"
      ]
    },
    {
      "cell_type": "code",
      "metadata": {
        "colab": {
          "base_uri": "https://localhost:8080/",
          "height": 281
        },
        "id": "AmEhXHOJR0Qm",
        "outputId": "c9bc4eae-9ece-4cc9-9a15-83808e9f0acc"
      },
      "source": [
        "\n",
        "import numpy as np\n",
        "import matplotlib.pyplot as plt\n",
        "from numpy import linalg as LA\n",
        "\n",
        "#Generate line points\n",
        "def line_gen(A,B):\n",
        "  len =10\n",
        "  dim = A.shape[0]\n",
        "  x_AB = np.zeros((dim,len))\n",
        "  lam_1 = np.linspace(0,1,len)\n",
        "  for i in range(len):\n",
        "    temp1 = A + lam_1[i]*(B-A)\n",
        "    x_AB[:,i]= temp1.T\n",
        "  return x_AB\n",
        "\n",
        "def parab_gen(y,a):\n",
        "    x = y**2\n",
        "    return x\n",
        "\n",
        "#setting up plot\n",
        "fig = plt.figure()\n",
        "ax = fig.add_subplot(111, aspect='equal')\n",
        "len = 100\n",
        "y = np.linspace(-4,4,len)\n",
        "\n",
        "#parab parameters\n",
        "V = np.array(([0,0],[0,1]))\n",
        "u = np.array(([1,0]))\n",
        "f = 0\n",
        "\n",
        "O = np.array(([0,0]))\n",
        "\n",
        "#Eigenvalues and eigenvectors\n",
        "D_vec,P = LA.eig(V)\n",
        "D = np.diag(D_vec)\n",
        "p = P[:,0]\n",
        "eta = 2*u@p\n",
        "foc = eta/D_vec[1]\n",
        "\n",
        "x = parab_gen(y,foc)\n",
        "\n",
        "cA = np.vstack((u+eta*0.5*p,V))\n",
        "cb = np.vstack((-f,(eta*0.5*p-u).reshape(-1,1)))\n",
        "c = LA.lstsq(cA,cb,rcond=None)[0]\n",
        "c = c.flatten()\n",
        "P=-P\n",
        "xStandardparab = np.vstack((x,y))\n",
        "xActualparab = P@xStandardparab + c[:,np.newaxis]\n",
        "\n",
        "#Plotting the actual parabola\n",
        "plt.plot(xActualparab[0,:],xActualparab[1,:],label='$y^2$=x',color='r')\n",
        "\n",
        "#Plotting axis\n",
        "R=np.array([-1,0])\n",
        "S=np.array([5,0])\n",
        "RS=line_gen(R,S)\n",
        "plt.plot(RS[0,:],RS[1,:],'--',label='(0 1)x=0')\n",
        "\n",
        "plt.plot(0,0,'o',color='r')\n",
        "plt.text(-0.4,0.4,'c')\n",
        "\n",
        "\n",
        "plt.xlabel('$x-axis$')\n",
        "plt.ylabel('$y-axis$')\n",
        "plt.legend(loc='best')\n",
        "plt.grid() # minor\n",
        "plt.axis('equal')\n",
        "\n",
        "plt.show()"
      ],
      "execution_count": 2,
      "outputs": [
        {
          "output_type": "display_data",
          "data": {
            "image/png": "[encoded data removed]",
            "text/plain": [
              "<Figure size 432x288 with 1 Axes>"
            ]
          },
          "metadata": {
            "needs_background": "light"
          }
        }
      ]
    }
  ]
}