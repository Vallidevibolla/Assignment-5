{
  "nbformat": 4,
  "nbformat_minor": 0,
  "metadata": {
    "colab": {
      "name": "Untitled24.ipynb",
      "provenance": [],
      "authorship_tag": "ABX9TyOQ2xMCEsGvHofycQU+C+kB",
      "include_colab_link": true
    },
    "kernelspec": {
      "name": "python3",
      "display_name": "Python 3"
    },
    "language_info": {
      "name": "python"
    }
  },
  "cells": [
    {
      "cell_type": "markdown",
      "metadata": {
        "id": "view-in-github",
        "colab_type": "text"
      },
      "source": [
        "<a href=\"https://colab.research.google.com/github/Vallidevibolla/Assignment-5/blob/main/Untitled24.ipynb\" target=\"_parent\"><img src=\"https://colab.research.google.com/assets/colab-badge.svg\" alt=\"Open In Colab\"/></a>"
      ]
    },
    {
      "cell_type": "code",
      "metadata": {
        "colab": {
          "base_uri": "https://localhost:8080/",
          "height": 298
        },
        "id": "AmEhXHOJR0Qm",
        "outputId": "c2bfb4ea-857e-4aa2-f4a6-fb83ecb580c6"
      },
      "source": [
        "\n",
        "import numpy as np\n",
        "import matplotlib.pyplot as plt\n",
        "from numpy import linalg as LA\n",
        "\n",
        "#Generate line points\n",
        "def line_gen(A,B):\n",
        "  len =10\n",
        "  dim = A.shape[0]\n",
        "  x_AB = np.zeros((dim,len))\n",
        "  lam_1 = np.linspace(0,1,len)\n",
        "  for i in range(len):\n",
        "    temp1 = A + lam_1[i]*(B-A)\n",
        "    x_AB[:,i]= temp1.T\n",
        "  return x_AB\n",
        "\n",
        "def parab_gen(y,a):\n",
        "    x = y**2\n",
        "    return x\n",
        "\n",
        "#setting up plot\n",
        "fig = plt.figure()\n",
        "ax = fig.add_subplot(111, aspect='equal')\n",
        "len = 100\n",
        "y = np.linspace(-4,4,len)\n",
        "\n",
        "#parab parameters\n",
        "V = np.array(([0,0],[0,0]))\n",
        "u = np.array(([0,1/2]))\n",
        "f = -1\n",
        "\n",
        "O = np.array(([0,0]))\n",
        "\n",
        "#Eigenvalues and eigenvectors\n",
        "D_vec,P = LA.eig(V)\n",
        "D = np.diag(D_vec)\n",
        "p = P[:,0]\n",
        "eta = 2*u@p\n",
        "foc = eta/D_vec[1]\n",
        "\n",
        "x = parab_gen(y,foc)\n",
        "\n",
        "cA = np.vstack((u+eta*0.5*p,V))\n",
        "cb = np.vstack((-f,(eta*0.5*p-u).reshape(-1,1)))\n",
        "c = LA.lstsq(cA,cb,rcond=None)[0]\n",
        "c = c.flatten()\n",
        "P=-P\n",
        "xStandardparab = np.vstack((x,y))\n",
        "xActualparab = P@xStandardparab + c[:,np.newaxis]\n",
        "\n",
        "#Plotting the actual parabola\n",
        "plt.plot(xActualparab[0,:],xActualparab[1,:],label='$y^2$=x',color='r')\n",
        "\n",
        "#Plotting axis\n",
        "R=np.array([1,0])\n",
        "S=np.array([0,1])\n",
        "RS=line_gen(R,S)\n",
        "plt.plot(RS[0,:],RS[1,:],'--',label='(1  0)x=1')\n",
        "\n",
        "A=np.array([4,0])\n",
        "B=np.array([0,1])\n",
        "AB=line_gen(A,B)\n",
        "plt.plot(AB[0,:],AB[1,:],'--',label='(4  0)x=16')\n",
        "\n",
        "\n",
        "plt.plot(0,0,'o',color='r')\n",
        "plt.text(-0.4,0.4,'c')\n",
        "\n",
        "#Plotting directrix\n",
        "#equation of directrix is given x=1 & x=4\n",
        "K1=np.array([-0.25,1])\n",
        "L1=np.array([-0.25,0])\n",
        "A=line_gen(K1,L1)\n",
        "plt.plot(A[0,:],A[1,:],label='$directrix$')\n",
        "\n",
        "plt.plot(-0.25,1,'o')\n",
        "plt.text(-0.25,1,'K1(-0.2,1)')\n",
        "plt.plot(-0.25,0,'o')\n",
        "plt.text(-0.25,-0,'L1(-0.25,0)')\n",
        "\n",
        "\n",
        "\n",
        "#plotting focus\n",
        "plt.plot(2,0,'o',label='$focus$')\n",
        "plt.text(2,0,'F(2,0)')\n",
        "\n",
        "plt.xlabel('$x-axis$')\n",
        "plt.ylabel('$y-axis$')\n",
        "plt.legend(loc='best')\n",
        "plt.grid() # minor\n",
        "plt.axis('equal')\n",
        "\n",
        "plt.show()"
      ],
      "execution_count": 12,
      "outputs": [
        {
          "output_type": "stream",
          "name": "stderr",
          "text": [
            "/usr/local/lib/python3.7/dist-packages/ipykernel_launcher.py:39: RuntimeWarning: invalid value encountered in double_scalars\n"
          ]
        },
        {
          "output_type": "display_data",
          "data": {
            "image/png": "[encoded data removed]",
            "text/plain": [
              "<Figure size 432x288 with 1 Axes>"
            ]
          },
          "metadata": {
            "needs_background": "light"
          }
        }
      ]
    }
  ]
}